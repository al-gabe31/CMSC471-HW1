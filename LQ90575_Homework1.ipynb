{
 "cells": [
  {
   "attachments": {},
   "cell_type": "markdown",
   "metadata": {},
   "source": [
    "<h1 style=\"text-decoration: underline\">Homework 1</h1>\n",
    "<p>Name: Gabe Aquino</p>\n",
    "<p>ID: LQ90575</p>\n",
    "<p>Email: lq90575@umbc.edu</p>"
   ]
  },
  {
   "attachments": {},
   "cell_type": "markdown",
   "metadata": {},
   "source": [
    "<h2 style=\"color: red; text-decoration: underline\">Input Variables</h2>\n",
    "<p><i>s0</i> = initial supply of bags of chips</p>\n",
    "<p><i>T</i> = time horizon</p>\n",
    "<p><i>type</i> = type of belief/average price per unit, viz. exact or approximate</p>\n",
    "<p><i>k</i> = length of history that the agent can remember</p>\n",
    "<p><i>&#945</i> = a constant to be multiplied with the current belief while comparing it with the current price,</p>\n",
    "<p><i>u</i> = upper limit of the supply of bags of chips, and</p>\n",
    "<p><i>l</i> = lower limit of the supply of bags of chips</p>\n",
    "\n",
    "<h2 style=\"color: blue; text-decoration: underline\">Output Variables</h2>\n",
    "<p>s = supply of bags of chips over time</p>\n",
    "<p>p = price per unit of bags of chips over time</p>\n",
    "<p>c = consumption of bags of chips over time</p>\n",
    "<p>b = belief/average price per unit of bags of chips over time</p>\n",
    "<p>d = demand for bags of chips over time</p>\n",
    "<p>e = expenditure/money spent on buying bags of chips over time</p>"
   ]
  },
  {
   "attachments": {},
   "cell_type": "markdown",
   "metadata": {},
   "source": [
    "<h1 style=\"text-decoration: underline\">Testing Section</h1>"
   ]
  },
  {
   "cell_type": "code",
   "execution_count": null,
   "metadata": {},
   "outputs": [],
   "source": [
    "length = 10\n",
    "\n",
    "def thing(x, y):\n",
    "    a = [i * x for i in range(1, length + 1)]\n",
    "    b = [i * y for i in range(1, length + 1)]\n",
    "\n",
    "    return a, b\n",
    "\n",
    "x = 2\n",
    "y = 3\n",
    "\n",
    "result = thing(x, y)\n",
    "\n",
    "for j in range(length):\n",
    "    print(result[0][j])\n",
    "print(\"\")\n",
    "\n",
    "for j in range(length):\n",
    "    print(result[1][j])\n",
    "print(\"\")\n",
    "\n",
    "print(\"Exited without error\")"
   ]
  },
  {
   "attachments": {},
   "cell_type": "markdown",
   "metadata": {},
   "source": [
    "<p style=\"font-size: 30px; text-decoration: underline\">4.a.</p>\n",
    "<p>buyChips(<i>s0</i> = 10, <i>T</i> = 1000, <i>type</i> = 'approximate', <i>k</i> = 20, <i>&#945</i> = 0.9, <i>u</i> = 30, <i>l</i> = 10)</p>"
   ]
  },
  {
   "cell_type": "code",
   "execution_count": 134,
   "metadata": {},
   "outputs": [
    {
     "name": "stdout",
     "output_type": "stream",
     "text": [
      "s mean = 13.804\n",
      "p mean = 4.864\n",
      "c mean = 2.986\n",
      "b mean = 4.86353\n",
      "d mean = 2.984\n",
      "e mean = 9.986\n",
      "All good\n"
     ]
    }
   ],
   "source": [
    "import statistics # Needed for finding average of a list\n",
    "import functions\n",
    "\n",
    "s, p, c, b, d, e = functions.buyChips(10, 1000, 'exact', 5, 0.9, 30, 10)\n",
    "\n",
    "# Run code below to print average value of each list\n",
    "print(\"s mean = %s\" % (statistics.mean(s)))\n",
    "print(\"p mean = %s\" % (statistics.mean(p)))\n",
    "print(\"c mean = %s\" % (statistics.mean(c)))\n",
    "print(\"b mean = %s\" % (statistics.mean(b)))\n",
    "print(\"d mean = %s\" % (statistics.mean(d)))\n",
    "print(\"e mean = %s\" % (statistics.mean(e)))\n",
    "\n",
    "# Run code below to print each value of a list line by line\n",
    "# for t in range(T):\n",
    "#     print(\"t = %s\" % (t))\n",
    "#     print(\"s[%s] = %s\" % (t, s[t]))\n",
    "#     print(\"p[%s] = %s\" % (t, p[t]))\n",
    "#     print(\"c[%s] = %s\" % (t, c[t]))\n",
    "#     print(\"b[%s] = %s\" % (t, b[t]))\n",
    "#     print(\"d[%s] = %s\" % (t, d[t]))\n",
    "#     print(\"e[%s] = %s\" % (t, e[t]))\n",
    "#     print(\"\\t\")\n",
    "\n",
    "print(\"All good\")"
   ]
  }
 ],
 "metadata": {
  "kernelspec": {
   "display_name": "Python 3",
   "language": "python",
   "name": "python3"
  },
  "language_info": {
   "codemirror_mode": {
    "name": "ipython",
    "version": 3
   },
   "file_extension": ".py",
   "mimetype": "text/x-python",
   "name": "python",
   "nbconvert_exporter": "python",
   "pygments_lexer": "ipython3",
   "version": "3.9.5"
  },
  "orig_nbformat": 4,
  "vscode": {
   "interpreter": {
    "hash": "81794d4967e6c3204c66dcd87b604927b115b27c00565d3d43f05ba2f3a2cb0d"
   }
  }
 },
 "nbformat": 4,
 "nbformat_minor": 2
}
